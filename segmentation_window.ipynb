{
 "cells": [
  {
   "cell_type": "code",
   "execution_count": null,
   "id": "1ba14609",
   "metadata": {},
   "outputs": [],
   "source": [
    "from PyQt5.QtWidgets import QPushButton, QLabel, QVBoxLayout, QWidget\n",
    "\n",
    "class segmentationWindow(QWidget):\n",
    "    def __init__(self, parent):\n",
    "        super().__init__()\n",
    "        \n",
    "        self.parent = parent  # referencja do głównego okna\n",
    "\n",
    "        self.backButton = QPushButton('Powrót', self)\n",
    "        self.backButton.clicked.connect(self.goBack)\n",
    "\n",
    "        layout = QVBoxLayout()\n",
    "        label = QLabel('Tutaj znajdą się opcje')\n",
    "        layout.addWidget(label)\n",
    "        layout.addWidget(self.backButton)\n",
    "\n",
    "        self.setLayout(layout)\n",
    "\n",
    "    def goBack(self):\n",
    "        # Przełączanie z powrotem na główny widok\n",
    "        self.parent.stackedWidget.setCurrentWidget(self.parent.mainWidget)\n",
    "        self.parent.setWindowTitle('Data extraction')\n"
   ]
  }
 ],
 "metadata": {
  "kernelspec": {
   "display_name": "Python 3 (ipykernel)",
   "language": "python",
   "name": "python3"
  },
  "language_info": {
   "codemirror_mode": {
    "name": "ipython",
    "version": 3
   },
   "file_extension": ".py",
   "mimetype": "text/x-python",
   "name": "python",
   "nbconvert_exporter": "python",
   "pygments_lexer": "ipython3",
   "version": "3.8.15"
  }
 },
 "nbformat": 4,
 "nbformat_minor": 5
}
